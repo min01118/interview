{
  "nbformat": 4,
  "nbformat_minor": 0,
  "metadata": {
    "colab": {
      "provenance": [],
      "mount_file_id": "1oX8HuT1-8HDgeMf90wgqjtt0IHc1rWRp",
      "authorship_tag": "ABX9TyOtDxQ/ol3sY1hrfC9g9rHG",
      "include_colab_link": true
    },
    "kernelspec": {
      "name": "python3",
      "display_name": "Python 3"
    },
    "language_info": {
      "name": "python"
    }
  },
  "cells": [
    {
      "cell_type": "markdown",
      "metadata": {
        "id": "view-in-github",
        "colab_type": "text"
      },
      "source": [
        "<a href=\"https://colab.research.google.com/github/min01118/interview/blob/main/%EC%9D%B4%EC%8A%A4%ED%8A%B8%EC%86%8C%ED%94%84%ED%8A%B8%EA%B3%BC%EC%A0%9C.ipynb\" target=\"_parent\"><img src=\"https://colab.research.google.com/assets/colab-badge.svg\" alt=\"Open In Colab\"/></a>"
      ]
    },
    {
      "cell_type": "code",
      "execution_count": null,
      "metadata": {
        "colab": {
          "base_uri": "https://localhost:8080/"
        },
        "id": "IL-YT3DgRH21",
        "outputId": "438068f8-1e96-41ed-bcdd-02deaadd70e5"
      },
      "outputs": [
        {
          "output_type": "stream",
          "name": "stdout",
          "text": [
            "Requirement already satisfied: requests in /usr/local/lib/python3.11/dist-packages (2.32.3)\n",
            "Requirement already satisfied: charset-normalizer<4,>=2 in /usr/local/lib/python3.11/dist-packages (from requests) (3.4.1)\n",
            "Requirement already satisfied: idna<4,>=2.5 in /usr/local/lib/python3.11/dist-packages (from requests) (3.10)\n",
            "Requirement already satisfied: urllib3<3,>=1.21.1 in /usr/local/lib/python3.11/dist-packages (from requests) (2.3.0)\n",
            "Requirement already satisfied: certifi>=2017.4.17 in /usr/local/lib/python3.11/dist-packages (from requests) (2025.1.31)\n"
          ]
        }
      ],
      "source": [
        "!pip install requests"
      ]
    },
    {
      "cell_type": "code",
      "source": [
        "import requests\n",
        "import time\n",
        "import re\n",
        "import urllib.parse"
      ],
      "metadata": {
        "id": "3z3aqdquO2Z0"
      },
      "execution_count": null,
      "outputs": []
    },
    {
      "cell_type": "code",
      "source": [
        "#필요한 데이터\n",
        "api_key=\"\"\n",
        "id = \"\"\n",
        "password: str =\"\""
      ],
      "metadata": {
        "id": "AzjCrsUMNtkF"
      },
      "execution_count": null,
      "outputs": []
    },
    {
      "cell_type": "code",
      "source": [
        "#데이터셋 리스트\n",
        "\n",
        "base_url = \"https://api.aihub.or.kr\"\n",
        "list_url = f'{base_url}/info/dataset.do'\n",
        "response=requests.get(list_url)\n",
        "datasets = [i.split(\",\")[0] for i in response.text.split(\"\\n\") if \"뉴스 대본 및 앵커 음성 데이터\" in i]\n",
        "datasets"
      ],
      "metadata": {
        "colab": {
          "base_uri": "https://localhost:8080/"
        },
        "id": "4FYGHnIgRR3E",
        "outputId": "63c5b11d-4fc7-48c2-f359-b985ad7d4d01"
      },
      "execution_count": null,
      "outputs": [
        {
          "output_type": "execute_result",
          "data": {
            "text/plain": [
              "['71557']"
            ]
          },
          "metadata": {},
          "execution_count": 99
        }
      ]
    },
    {
      "cell_type": "code",
      "source": [
        "#데이터 트리정보 가져오기\n",
        "dataset_data_url = f\"{base_url}/info/{datasets[0]}.do\"\n",
        "response_k = requests.get(dataset_data_url)\n",
        "tree_text = response_k.text\n",
        "tree_text.split(\"\\n\")"
      ],
      "metadata": {
        "colab": {
          "base_uri": "https://localhost:8080/"
        },
        "id": "PG-h1_SQR8HZ",
        "outputId": "43304942-19dd-4296-bf07-836ff1dbd338"
      },
      "execution_count": null,
      "outputs": [
        {
          "output_type": "execute_result",
          "data": {
            "text/plain": [
              "['The contents are encoded in UTF-8 including Korean characters. ',\n",
              " 'If the following contents are not output normally, ',\n",
              " 'Please modify the character information of the OS. ',\n",
              " '=================공지사항=================== ',\n",
              " '========================================== ',\n",
              " '',\n",
              " '    └─138.뉴스 대본 및 앵커 음성 데이터',\n",
              " '        └─01-1.정식개방데이터',\n",
              " '            ├─Training',\n",
              " '            │  ├─01.원천데이터',\n",
              " '            │  │  ├─TS.z01 | 100 GB | 470564',\n",
              " '            │  │  ├─TS.z02 | 100 GB | 470565',\n",
              " '            │  │  └─TS.zip | 2 GB | 470566',\n",
              " '            │  └─02.라벨링데이터',\n",
              " '            │      └─TL.zip | 244 MB | 470567',\n",
              " '            └─Validation',\n",
              " '                ├─01.원천데이터',\n",
              " '                │  └─VS.zip | 25 GB | 470568',\n",
              " '                └─02.라벨링데이터',\n",
              " '                    └─VL.zip | 28 MB | 470569',\n",
              " '',\n",
              " '']"
            ]
          },
          "metadata": {},
          "execution_count": 100
        }
      ]
    },
    {
      "cell_type": "code",
      "source": [
        "#Tree Maker\n",
        "import re\n",
        "\n",
        "class Component :\n",
        "  def __init__(self ,name : str,depth:int) -> None:\n",
        "    self.name = name\n",
        "    self.depth = depth\n",
        "  def visit(self, do ):\n",
        "    do(self)\n",
        "\n",
        "class Leaf(Component) :\n",
        "  def __init__(self, name: str, depth:int, parent : Component|None) -> None:\n",
        "    super().__init__(name,depth)\n",
        "    self.parent = parent\n",
        "\n",
        "class ListTypeTree(Leaf) :\n",
        "  def __init__(self, name: str, depth:int, parent : Component|None) -> None:\n",
        "    super().__init__(name,depth,parent)\n",
        "    self.children : list[Leaf] = []\n",
        "\n",
        "  def add_child(self, child : Leaf):\n",
        "    self.children.append(child)\n",
        "\n",
        "  def visit(self, do ):\n",
        "    do(self)\n",
        "    for i in self.children:\n",
        "      i.visit(do)\n",
        "\n",
        "\n",
        "\n",
        "class AiHubTreeMaker :\n",
        "  def __init__(self,text) -> None:\n",
        "    self.root_parent = ListTypeTree(\"root\",0,None)\n",
        "    self.current_parent = self.root_parent\n",
        "    self.text =text\n",
        "    for i in  text.split(\"\\n\") :\n",
        "          self.__find_depth_and_add(i)\n",
        "\n",
        "  def __add_child(self ,line : str):\n",
        "     self.current_parent.add_child(ListTypeTree(line,self.current_parent.depth+1,self.current_parent))\n",
        "\n",
        "  def __check_depth(self, line : str):\n",
        "    return len(re.split(r\"(├─|└─)\",line)[0].replace(\"│\",\"  \"))/4\n",
        "\n",
        "  def __change_parent(self, depth:int,line:str):\n",
        "    if  depth - 1 < self.current_parent.depth :\n",
        "      self.current_parent = self.current_parent.parent\n",
        "      self.__change_parent(depth,line)\n",
        "    elif depth - 1 > self.current_parent.depth :\n",
        "      self.current_parent = self.current_parent.children[-1]\n",
        "\n",
        "  def __find_depth_and_add(self, line:str):\n",
        "    if not re.match(r\"^.*(├─|└─)\",line) :\n",
        "      return\n",
        "    depth =  self.__check_depth(line)\n",
        "    self.__change_parent(depth,line)\n",
        "    self.__add_child(line)\n",
        "\n",
        "\n",
        "  def visitAll(self,do):\n",
        "    self.root_parent.visit(do)"
      ],
      "metadata": {
        "id": "sWwacVLsSV2a"
      },
      "execution_count": null,
      "outputs": []
    },
    {
      "cell_type": "code",
      "source": [
        "# 라벨링 데이터 만 가져오기\n",
        "returnFileList:list[tuple] = []\n",
        "def check(data : ListTypeTree) :\n",
        "  if \"라벨링데이터\" in data.name:\n",
        "      for i in data.children:\n",
        "        returnFileList.append((re.findall(r'[a-zA-Z]+',data.parent.name.strip())[0].lower(),i.name.split(\"|\")[-1]))\n",
        "AiHubTreeMaker(tree_text).visitAll(check)\n",
        "returnFileList"
      ],
      "metadata": {
        "colab": {
          "base_uri": "https://localhost:8080/"
        },
        "id": "wd7IRUy1S5Eo",
        "outputId": "82797dd2-f021-4fb6-939a-05d2fbfa3c51"
      },
      "execution_count": null,
      "outputs": [
        {
          "output_type": "execute_result",
          "data": {
            "text/plain": [
              "[('training', ' 470567'), ('validation', ' 470569')]"
            ]
          },
          "metadata": {},
          "execution_count": 102
        }
      ]
    },
    {
      "cell_type": "code",
      "source": [
        "#파일 다운로드 시도 1 --------------------------실패 -------------------------\n",
        "#아마존에 프록시 서버 구성 SQUID\n",
        "#한국 서버가 필요합니다. 아마존 서울 서버는 해외서버로 인식됨\n",
        "proxies = \"http://ec2-15-164-214-40.ap-northeast-2.compute.amazonaws.com:3128\"\n",
        "#curl download\n",
        "download_url : str= f\"{base_url}/down/0.5\"\n",
        "def download_file(file_name:str,file_key,proxies=None):\n",
        "  api_key_str = f\"\\\"apikey:{api_key}\\\"\"\n",
        "  url = f\"\\\"{download_url}/{datasets[0].strip()}.do?fileSn={file_key.strip()}\\\"\"\n",
        "  file_name = f\"\\\"{file_name}.tar\\\"\"\n",
        "  if proxies is None:\n",
        "    !curl  -L -C - -o {file_name} -H {api_key_str}  {url}\n",
        "  else :\n",
        "    !curl  -L -C - -o {file_name} -x {proxies}  -H {api_key_str}  {url}\n",
        "\n",
        "#no proxy\n",
        "for i in returnFileList:\n",
        "  download_file(i[0],i[1])\n",
        "\n",
        "#with proxy\n",
        "for i in returnFileList:\n",
        "  download_file(i[0],i[1],proxies)\n",
        "\n",
        "!cat training.tar\n",
        "!cat validation.tar"
      ],
      "metadata": {
        "colab": {
          "base_uri": "https://localhost:8080/"
        },
        "id": "h2yacfbDTOtj",
        "outputId": "334475e4-9a6b-489e-f728-6c728362e0c4"
      },
      "execution_count": null,
      "outputs": [
        {
          "output_type": "stream",
          "name": "stdout",
          "text": [
            "** Resuming transfer from byte position 82\n",
            "  % Total    % Received % Xferd  Average Speed   Time    Time     Time  Current\n",
            "                                 Dload  Upload   Total   Spent    Left  Speed\n",
            "  0    82    0     0    0     0      0      0 --:--:--  0:00:01 --:--:--     0\n",
            "** Resuming transfer from byte position 82\n",
            "  % Total    % Received % Xferd  Average Speed   Time    Time     Time  Current\n",
            "                                 Dload  Upload   Total   Spent    Left  Speed\n",
            "  0    82    0     0    0     0      0      0 --:--:-- --:--:-- --:--:--     0\n",
            "** Resuming transfer from byte position 82\n",
            "  % Total    % Received % Xferd  Average Speed   Time    Time     Time  Current\n",
            "                                 Dload  Upload   Total   Spent    Left  Speed\n",
            "  0    82    0     0    0     0      0      0 --:--:--  0:00:01 --:--:--     0\n",
            "** Resuming transfer from byte position 82\n",
            "  % Total    % Received % Xferd  Average Speed   Time    Time     Time  Current\n",
            "                                 Dload  Upload   Total   Spent    Left  Speed\n",
            "  0    82    0     0    0     0      0      0 --:--:--  0:00:01 --:--:--     0\n",
            "AI 허브는 해외에서의 데이터 다운로드를 제한하고 있습니다.\n",
            "AI 허브는 해외에서의 데이터 다운로드를 제한하고 있습니다.\n"
          ]
        }
      ]
    },
    {
      "cell_type": "code",
      "source": [
        "import requests\n",
        "# 파일 다운로드 시도 1-1----------------------실패--------------------\n",
        "# request 를 이용\n",
        "#아마존에 프록시 서버 구성 SQUID\n",
        "#한국 서버가 필요합니다. 아마존 서울 서버는 해외서버로 인식됨\n",
        "\n",
        "proxies = {\n",
        "    'http' : \"http://ec2-15-164-214-40.ap-northeast-2.compute.amazonaws.com:3128\",\n",
        "    'https': \"http://ec2-15-164-214-40.ap-northeast-2.compute.amazonaws.com:3128\"\n",
        "}\n",
        "download_url : str= f\"{base_url}/down/0.5\"\n",
        "\n",
        "def download_file_with_request(file_name:str,file_key:str ,proxies=None):\n",
        "    headers = {'apikey': api_key}\n",
        "    url = f\"{download_url}/{datasets[0].strip()}.do?fileSn={file_key.strip()}\"\n",
        "    with requests.get(url, headers=headers, stream=True, proxies=proxies) as response:\n",
        "        try:\n",
        "          response.raise_for_status()\n",
        "          file_name = f\"\\\"{file_name}.tar\\\"\"\n",
        "          with open(file_name, 'wb') as file:\n",
        "              for chunk in response.iter_content(chunk_size=8192):\n",
        "                  if chunk:\n",
        "                      file.write(chunk)\n",
        "        except :\n",
        "            print(response.status_code)\n",
        "            print(response.text)\n",
        "\n",
        "\n",
        "for i in returnFileList:\n",
        "  download_file_with_request(i[0],i[1],proxies)\n"
      ],
      "metadata": {
        "colab": {
          "base_uri": "https://localhost:8080/"
        },
        "id": "t1cUKsE9Bm5y",
        "outputId": "8405757e-6672-4e94-d4c8-8700628f4a6a"
      },
      "execution_count": null,
      "outputs": [
        {
          "output_type": "stream",
          "name": "stdout",
          "text": [
            "502\n",
            "AI 허브는 해외에서의 데이터 다운로드를 제한하고 있습니다.\n",
            "\n",
            "502\n",
            "AI 허브는 해외에서의 데이터 다운로드를 제한하고 있습니다.\n",
            "\n"
          ]
        }
      ]
    },
    {
      "cell_type": "code",
      "source": [
        "# 파일 다운로드 시도 2--------------------실패----------------------------------------------------\n",
        "# 로그인 및 웹페이지 시도\n",
        "\n",
        "\n",
        "\n",
        "login_url = \"https://aihub.or.kr/loginProc.do\"\n",
        "login_data =f'referer=&emplyrId={urllib.parse.quote(id)}&password={urllib.parse.quote(password)}'\n",
        "javascript_url = \"https://aihub.or.kr/apishell/dwld.do\"\n",
        "javascript_data = {\n",
        "    'dataSetSn': '71557',\n",
        "    'fileSn': '470567'\n",
        "}\n",
        "headers = {\n",
        "    'Accept': 'application/json',\n",
        "    \"content-type\":\"application/x-www-form-urlencoded; charset=UTF-8\"\n",
        "}\n",
        "\n",
        "session = requests.Session()\n",
        "response1 = session.post(login_url,headers=headers, data=login_data)\n",
        "print(response1.text)\n",
        "response2 = session.post(javascript_url, data=javascript_data)\n",
        "response2.text"
      ],
      "metadata": {
        "colab": {
          "base_uri": "https://localhost:8080/",
          "height": 52
        },
        "id": "zT-ArY55Jhjb",
        "outputId": "ec62701b-a5a3-4607-a9f4-8c34e15ae338"
      },
      "execution_count": null,
      "outputs": [
        {
          "output_type": "stream",
          "name": "stdout",
          "text": [
            "{\"success\":true,\"returnURL\":\"/index.do\",\"rstVal\":\"N\"}\n"
          ]
        },
        {
          "output_type": "execute_result",
          "data": {
            "text/plain": [
              "\"<script>alert('AI 허브는 해외에서의 데이터 다운로드를 제한하고 있습니다.');window.close();</script>\\n\""
            ],
            "application/vnd.google.colaboratory.intrinsic+json": {
              "type": "string"
            }
          },
          "metadata": {},
          "execution_count": 116
        }
      ]
    },
    {
      "cell_type": "code",
      "source": [
        "from google.colab import drive\n",
        "drive.mount('/content/drive')\n"
      ],
      "metadata": {
        "colab": {
          "base_uri": "https://localhost:8080/"
        },
        "id": "B14co19nT2SJ",
        "outputId": "53432e26-18fb-46fa-f069-be8929a0bb29"
      },
      "execution_count": null,
      "outputs": [
        {
          "output_type": "stream",
          "name": "stdout",
          "text": [
            "Drive already mounted at /content/drive; to attempt to forcibly remount, call drive.mount(\"/content/drive\", force_remount=True).\n"
          ]
        }
      ]
    },
    {
      "cell_type": "code",
      "source": [],
      "metadata": {
        "id": "jtWc7Mdk17O3"
      },
      "execution_count": null,
      "outputs": []
    },
    {
      "cell_type": "code",
      "source": [
        "#tar 풀기\n",
        "!mkdir out\n",
        "!rm -rf out/*\n",
        "!mkdir out/validation\n",
        "!mkdir out/training\n",
        "!tar -xvf  /content/drive/MyDrive/validation.tar -C ./out/validation\n",
        "!tar -xvf  /content/drive/MyDrive/training.tar -C ./out/training"
      ],
      "metadata": {
        "colab": {
          "base_uri": "https://localhost:8080/"
        },
        "id": "HjyTHjB7Vu6D",
        "outputId": "d462c07c-2d7d-4117-834d-847e27cb0a2a"
      },
      "execution_count": null,
      "outputs": [
        {
          "output_type": "stream",
          "name": "stdout",
          "text": [
            "mkdir: cannot create directory ‘out’: File exists\n",
            "138.뉴스_대본_및_앵커_음성_데이터/01-1.정식개방데이터/Validation/02.라벨링데이터/VL.zip.part0\n",
            "138.뉴스_대본_및_앵커_음성_데이터/01-1.정식개방데이터/Training/02.라벨링데이터/TL.zip.part0\n"
          ]
        }
      ]
    },
    {
      "cell_type": "code",
      "source": [
        "#병합\n",
        "import os\n",
        "!cp out/validation/138.뉴스_대본_및_앵커_음성_데이터/01-1.정식개방데이터/Validation/02.라벨링데이터/VL.zip.part0  out/validation/VL.zip\n",
        "!cp out/training/138.뉴스_대본_및_앵커_음성_데이터/01-1.정식개방데이터/Training/02.라벨링데이터/TL.zip.part0 out/training/TL.zip\n",
        "\n"
      ],
      "metadata": {
        "id": "ZCXKP_uOXO8w"
      },
      "execution_count": null,
      "outputs": []
    },
    {
      "cell_type": "code",
      "source": [
        "#압축 풀기\n",
        "!mkdir out/validation/out\n",
        "!rm -rf out/validation/out/*\n",
        "!unzip -qq out/validation/VL.zip -d out/validation/out\n",
        "!mkdir out/training/out\n",
        "!rm -rf out/training/out/*\n",
        "!unzip -qq out/training/TL.zip -d out/training/out"
      ],
      "metadata": {
        "id": "G2eqxPlRqKIp"
      },
      "execution_count": null,
      "outputs": []
    },
    {
      "cell_type": "code",
      "source": [
        "#making text_only\n",
        "import os\n",
        "import json\n",
        "\n",
        "def find_all_json_files(directory):\n",
        "    json_files = []\n",
        "    for root, dirs, files in os.walk(directory):\n",
        "        for file in files:\n",
        "            if file.endswith('.json'):\n",
        "                json_files.append(os.path.join(root, file))\n",
        "    return json_files\n",
        "\n",
        "def make_text_only(directory):\n",
        "  json_files = find_all_json_files(f\"{directory}/out\")\n",
        "  !rm -f {directory}/text_only.txt\n",
        "  !touch {directory}/text_only.txt\n",
        "  with open(f\"{directory}/text_only.txt\", 'a') as output_file:\n",
        "    for json_file in json_files:\n",
        "        with open(json_file, 'r') as input_file:\n",
        "            text = input_file.read()\n",
        "            data = json.loads(text)\n",
        "            output_file.write(f'{data[\"script\"][\"id\"]}:{data[\"script\"][\"text\"]}\\n')\n",
        "\n",
        "make_text_only(\"out/validation\")\n",
        "make_text_only(\"out/training\")\n"
      ],
      "metadata": {
        "id": "7hKK-DT1sqEl"
      },
      "execution_count": null,
      "outputs": []
    },
    {
      "cell_type": "code",
      "source": [
        "import re\n",
        "\n",
        "def make_text_preprocessed(directory):\n",
        "  ! rm -f {directory}/text_preprocessed.txt\n",
        "  ! touch {directory}/text_preprocessed.txt\n",
        "  with open(f\"{directory}/text_preprocessed.txt\",'a') as output_file:\n",
        "    with open(f\"{directory}/text_only.txt\", 'r') as input_file:\n",
        "      lines = input_file.readlines()\n",
        "      for i in lines:\n",
        "        name=i.split(\":\")[0]\n",
        "        i = re.sub(r'\\n$',\"\",i).replace(f'{name}:',\"\")\n",
        "        find_text = re.findall(r'\\(.*?\\)/\\(.*?\\)',i)\n",
        "        first = i\n",
        "        second = i\n",
        "        for k in find_text :\n",
        "          k_list=re.findall(r'\\((.*?)\\)/\\((.*?)\\)',k)[0]\n",
        "          first = first.replace(k,k_list[0])\n",
        "          second = second.replace(k,k_list[1])\n",
        "        output_file.write(f'{name}:{first} ${second}\\n')\n",
        "make_text_preprocessed(\"out/validation\")\n",
        "make_text_preprocessed(\"out/training\")"
      ],
      "metadata": {
        "id": "O8iChMOMugXC"
      },
      "execution_count": null,
      "outputs": []
    },
    {
      "cell_type": "code",
      "source": [
        "!tail -n 20 out/validation/text_preprocessed.txt"
      ],
      "metadata": {
        "colab": {
          "base_uri": "https://localhost:8080/"
        },
        "id": "MPYbqv6tQMsW",
        "outputId": "25c0bb98-5247-466a-b09f-0c0dabc8e6f7"
      },
      "execution_count": null,
      "outputs": [
        {
          "output_type": "stream",
          "name": "stdout",
          "text": [
            "YTNPO484:앞서 지난달 20 일 YTN 이 국회와 정당이 수어 통역을 제공하지 않아 의원 개인이 수어 통역사를 고용해야 하는 현실을 보도한 직후 박병석 국회의장은 국회사무처에 개선 방안을 찾아보라고 지시한 것으로 전해졌습니다. $앞서 지난달 이십 일 와이 티 엔 이 국회와 정당이 수어 통역을 제공하지 않아 의원 개인이 수어 통역사를 고용해야 하는 현실을 보도한 직후 박병석 국회의장은 국회사무처에 개선 방안을 찾아보라고 지시한 것으로 전해졌습니다.\n",
            "YTNPO484:국회사무처는 `국민 누구와도 소통하는 국회` 를 만들기 위해 소통관 기자회견장 수어 통역 지원 계획을 세우고 다음 달부터 시범 사업에 들어갈 예정입니다. $국회사무처는 `국민 누구와도 소통하는 국회` 를 만들기 위해 소통관 기자회견장 수어 통역 지원 계획을 세우고 다음 달부터 시범 사업에 들어갈 예정입니다.\n",
            "YTNPO484:지난달 YTN 의 `수어 소통 없는 국회 소통관` 보도와 관련해 앞으로는 국회 기자회견에도 코로나 19 정부 브리핑과 마찬가지로 수어 통역이 제공될 것으로 보입니다. $지난달 와이 티 엔 의 `수어 소통 없는 국회 소통관` 보도와 관련해 앞으로는 국회 기자회견에도 코로나 일 구 정부 브리핑과 마찬가지로 수어 통역이 제공될 것으로 보입니다.\n",
            "YTNPO480:더불어민주당 김태년 원내대표는 아파트 투기 세력 근절에 모든 정책 수단을 동원하겠다고 밝혔습니다. $더불어민주당 김태년 원내대표는 아파트 투기 세력 근절에 모든 정책 수단을 동원하겠다고 밝혔습니다.\n",
            "YTNPO480:김 원내대표는 오늘 원내대책회의에서 지난해 12 , 16 부동산 대책에서 고강도 정책을 발표했지만, 종합부동산세 강화 등을 담은 후속 법안이 20 대 국회에서 처리되지 않아 시장에서 부작용이 발생하고 있다고 지적했습니다. $김 원내대표는 오늘 원내대책회의에서 지난해 십 이 , 십 육 부동산 대책에서 고강도 정책을 발표했지만, 종합부동산세 강화 등을 담은 후속 법안이 이십 대 국회에서 처리되지 않아 시장에서 부작용이 발생하고 있다고 지적했습니다.\n",
            "YTNPO480:이에 따라 이번 7 월 임시국회에서 다주택자와 투기성 주택 보유자에게 종부세를 중과하고 실소유자는 보호하는 내용의 후속 입법을 신속히 처리하겠다고 강조했습니다. $이에 따라 이번 칠 월 임시국회에서 다주택자와 투기성 주택 보유자에게 종부세를 중과하고 실소유자는 보호하는 내용의 후속 입법을 신속히 처리하겠다고 강조했습니다.\n",
            "YTNPO480:이와 함께 신혼부부나 청년과 같은 생애 최초 주택 구매자들이 쉽게 집을 살 수 있도록 금융지원 정책을 마련하고, 장기 실거주자의 세금 부담을 완화하는 정책도 병행하겠다고 덧붙였습니다. $이와 함께 신혼부부나 청년과 같은 생애 최초 주택 구매자들이 쉽게 집을 살 수 있도록 금융지원 정책을 마련하고, 장기 실거주자의 세금 부담을 완화하는 정책도 병행하겠다고 덧붙였습니다.\n",
            "YTNPO485:하지만 통합당은 지역구 의원들이 집 두 채를 가지고 있는 것은 비난 대상이 아니라고 주장했습니다. $하지만 통합당은 지역구 의원들이 집 두 채를 가지고 있는 것은 비난 대상이 아니라고 주장했습니다.\n",
            "YTNPO485:여권 인사들의 다주택, 특히 서울 강남의 부동산 보유를 놓고 논란이 큰데요. $여권 인사들의 다주택, 특히 서울 강남의 부동산 보유를 놓고 논란이 큰데요.\n",
            "YTNPO485:그런데 부동산 논란에 이어 정치인들의 또 다른 특권 논란도 불거졌습니다. $그런데 부동산 논란에 이어 정치인들의 또 다른 특권 논란도 불거졌습니다.\n",
            "YTNPO485:김 의원 측은 '엄격히 심사해 일부 의원만 안장하는 내용' 이라고 설명했지만 국민의 눈높이와 맞지 않는다는 비판이 나오고 있습니다. $김 의원 측은 '엄격히 심사해 일부 의원만 안장하는 내용' 이라고 설명했지만 국민의 눈높이와 맞지 않는다는 비판이 나오고 있습니다.\n",
            "YTNPO485:통합당 주호영 원내대표는 서울 강남 아파트를 팔지 않아 논란을 빚었던 노영민 대통령 비서실장에 대해 '그게 보통 사람들의 생각' 이라면서 자신도 서울 서초구의 아파트 대신 대구 지역구의 집을 팔았다고 밝혔습니다. $통합당 주호영 원내대표는 서울 강남 아파트를 팔지 않아 논란을 빚었던 노영민 대통령 비서실장에 대해 '그게 보통 사람들의 생각' 이라면서 자신도 서울 서초구의 아파트 대신 대구 지역구의 집을 팔았다고 밝혔습니다.\n",
            "YTNPO485:통합당 김성원 의원은 국립묘지 안장 대상에 전,현직 국회의원들을 포함시키는 내용의 법안을 발의했는데요. $통합당 김성원 의원은 국립묘지 안장 대상에 전,현직 국회의원들을 포함시키는 내용의 법안을 발의했는데요.\n",
            "YTNPO485:정치권의 특권 내려놓기, 쉽지 않을 일이네요. $정치권의 특권 내려놓기, 쉽지 않을 일이네요.\n",
            "YTNPO485:그런가 하면 문희상 전 국회의장과 가까운 김수흥 민주당 의원은 전직 국회의장에게 차량과 사무실 등을 지원하는 법을 발의하려다 `문희상 예우법` 이라는 지적에 무산되기도 했는데요. $그런가 하면 문희상 전 국회의장과 가까운 김수흥 민주당 의원은 전직 국회의장에게 차량과 사무실 등을 지원하는 법을 발의하려다 `문희상 예우법` 이라는 지적에 무산되기도 했는데요.\n",
            "YTNPO494:원희룡 제주도지사는 미래통합당 김종인 비상대책위원장과 주호영 원내대표에게 정치인 부동산 백지신탁을 강력하게 추진할 것을 제안했다고 밝혔습니다. $원희룡 제주도지사는 미래통합당 김종인 비상대책위원장과 주호영 원내대표에게 정치인 부동산 백지신탁을 강력하게 추진할 것을 제안했다고 밝혔습니다.\n",
            "YTNPO494:원 지사는 자신의 SNS 를 통해 부동산 정책을 다루겠다는 정치인과 고위공직자가 강남 아파트를 쥐고 있는 것은 마스크를 착용 안 하면서 코로나를 잡겠다는 것과 마찬가지로 무책임한 행동이라고 주장했습니다. $원 지사는 자신의 에스 엔 에스 를 통해 부동산 정책을 다루겠다는 정치인과 고위공직자가 강남 아파트를 쥐고 있는 것은 마스크를 착용 안 하면서 코로나를 잡겠다는 것과 마찬가지로 무책임한 행동이라고 주장했습니다.\n",
            "YTNPO494:앞서 원 지사는 오늘 오전 국회에서 김종인 비대위원장을 비공개로 단독 면담하고 부동산 백지 신탁제를 당론으로 채택해달라고 요청한 것으로 전해졌습니다. $앞서 원 지사는 오늘 오전 국회에서 김종인 비대위원장을 비공개로 단독 면담하고 부동산 백지 신탁제를 당론으로 채택해달라고 요청한 것으로 전해졌습니다.\n",
            "YTNPO494:원 지사는 그러면서 우리부터 떳떳하고 깨끗해야 당당하게 싸울 수 있다며 문재인 정권 심판과 정권 교체를 위해 담대한 결단을 하자고 촉구했습니다. $원 지사는 그러면서 우리부터 떳떳하고 깨끗해야 당당하게 싸울 수 있다며 문재인 정권 심판과 정권 교체를 위해 담대한 결단을 하자고 촉구했습니다.\n",
            "YTNPO494:이를 위해선 미래통합당도 진지한 논의와 과감한 행동이 필요하다면서 정치인과 고위관료 다주택자에게도 한 채만 남기고 팔 것을 강력하게 요구하고 특히 강남 아파트를 먼저 처분하는 결단을 보여야 한다고 강조했습니다. $이를 위해선 미래통합당도 진지한 논의와 과감한 행동이 필요하다면서 정치인과 고위관료 다주택자에게도 한 채만 남기고 팔 것을 강력하게 요구하고 특히 강남 아파트를 먼저 처분하는 결단을 보여야 한다고 강조했습니다.\n"
          ]
        }
      ]
    },
    {
      "cell_type": "code",
      "source": [],
      "metadata": {
        "id": "sJ0FmaEE9Kye"
      },
      "execution_count": null,
      "outputs": []
    }
  ]
}